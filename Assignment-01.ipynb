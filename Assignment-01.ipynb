{
 "cells": [
  {
   "cell_type": "markdown",
   "id": "f711ce3f",
   "metadata": {},
   "source": [
    "# Assignment 01-Huzaifa Qamar"
   ]
  },
  {
   "cell_type": "code",
   "execution_count": 25,
   "id": "cb42643e",
   "metadata": {},
   "outputs": [],
   "source": [
    "salaries = ['20k', '40k', '50k', '60k', '35k', '89k','40k']"
   ]
  },
  {
   "cell_type": "code",
   "execution_count": 26,
   "id": "26575255",
   "metadata": {},
   "outputs": [
    {
     "name": "stdout",
     "output_type": "stream",
     "text": [
      "Length=7\n"
     ]
    }
   ],
   "source": [
    "#1. What is the length of the salaries list.\n",
    "length_list=len(salaries)\n",
    "print(f'Length={length_list}')"
   ]
  },
  {
   "cell_type": "code",
   "execution_count": 27,
   "id": "c65d7f17",
   "metadata": {},
   "outputs": [
    {
     "name": "stdout",
     "output_type": "stream",
     "text": [
      "Third Salary=50k\n"
     ]
    }
   ],
   "source": [
    "#2. Retrieve the third salary in the list by using index.\n",
    "third_Salary=salaries[2]\n",
    "print(f'Third Salary={third_Salary}')"
   ]
  },
  {
   "cell_type": "code",
   "execution_count": 28,
   "id": "bce62959",
   "metadata": {},
   "outputs": [
    {
     "name": "stdout",
     "output_type": "stream",
     "text": [
      "Last Salary=40k\n"
     ]
    }
   ],
   "source": [
    "#3. Extract the last salary from the list by using a negative index.\n",
    "last_Salary=salaries[-1]\n",
    "print(f'Last Salary={last_Salary}')"
   ]
  },
  {
   "cell_type": "code",
   "execution_count": 29,
   "id": "7fb948aa",
   "metadata": {},
   "outputs": [
    {
     "name": "stdout",
     "output_type": "stream",
     "text": [
      "Middle Salary=['50k', '60k', '35k']\n"
     ]
    }
   ],
   "source": [
    "#4. Slice the salaries list to get only the middle three salaries.\n",
    "Middle_Salary=salaries[2:5]\n",
    "print(f'Middle Salary={Middle_Salary}')"
   ]
  },
  {
   "cell_type": "code",
   "execution_count": 38,
   "id": "3a9ad27f",
   "metadata": {},
   "outputs": [
    {
     "name": "stdout",
     "output_type": "stream",
     "text": [
      "Add 100k=['100k', '40k', '89k', '35k', '60k', '55k', '40k', '30k', '20k', '100k']\n"
     ]
    }
   ],
   "source": [
    "#5. Add a new salary to the list, ‘100k’ by using append() method.\n",
    "salaries.append('100k')\n",
    "print(f'Add 100k={salaries}')"
   ]
  },
  {
   "cell_type": "code",
   "execution_count": 32,
   "id": "841411c6",
   "metadata": {},
   "outputs": [
    {
     "name": "stdout",
     "output_type": "stream",
     "text": [
      "Add 120k=['20k', '40k', '50k', '60k', '35k', '89k', '40k', '100k', '120k']\n"
     ]
    }
   ],
   "source": [
    "#5. Add a new salary to the list, ‘120k’ without method.\n",
    "add_salary=salaries +['120k']\n",
    "print(f'Add 120k={add_salary}')"
   ]
  },
  {
   "cell_type": "code",
   "execution_count": 33,
   "id": "56e692ec",
   "metadata": {},
   "outputs": [
    {
     "name": "stdout",
     "output_type": "stream",
     "text": [
      "Replace =['20k', '40k', '55k', '60k', '35k', '89k', '40k', '100k']\n"
     ]
    }
   ],
   "source": [
    "#6. Replace the third salary in the list with '55k' and print the updated list.\n",
    "salaries[2]='55k'\n",
    "print(f'Replace ={salaries}')"
   ]
  },
  {
   "cell_type": "code",
   "execution_count": 34,
   "id": "77bf8f1a",
   "metadata": {},
   "outputs": [
    {
     "name": "stdout",
     "output_type": "stream",
     "text": [
      "Check Total=2\n"
     ]
    }
   ],
   "source": [
    "#7. Count how many times '40k' appears in the list.\n",
    "total_times=salaries.count('40k')\n",
    "print(f'Check Total={total_times}')"
   ]
  },
  {
   "cell_type": "code",
   "execution_count": 35,
   "id": "dd7956af",
   "metadata": {},
   "outputs": [
    {
     "name": "stdout",
     "output_type": "stream",
     "text": [
      "Insert Salary=['20k', '30k', '40k', '55k', '60k', '35k', '89k', '40k', '100k']\n"
     ]
    }
   ],
   "source": [
    "#8. Insert a new salary at the second position.\n",
    "salaries.insert(1,'30k')\n",
    "print(f'Insert Salary={salaries}')"
   ]
  },
  {
   "cell_type": "code",
   "execution_count": 36,
   "id": "e4045453",
   "metadata": {},
   "outputs": [
    {
     "name": "stdout",
     "output_type": "stream",
     "text": [
      "Reverse List=['100k', '40k', '89k', '35k', '60k', '55k', '40k', '30k', '20k']\n"
     ]
    }
   ],
   "source": [
    "#9. Reverse the order of the salaries list with method.\n",
    "salaries.reverse()\n",
    "print(f'Reverse List={salaries}')"
   ]
  },
  {
   "cell_type": "code",
   "execution_count": 37,
   "id": "01c97486",
   "metadata": {},
   "outputs": [
    {
     "name": "stdout",
     "output_type": "stream",
     "text": [
      "Reverse Without Method=['100k', '40k', '89k', '35k', '60k', '55k', '40k', '30k', '20k']\n"
     ]
    }
   ],
   "source": [
    "#10. Reverse the order of the salaries list without method.\n",
    "salaries[-1:]\n",
    "print(f'Reverse List Without Method={salaries}')"
   ]
  },
  {
   "cell_type": "code",
   "execution_count": null,
   "id": "5ad27e7a",
   "metadata": {},
   "outputs": [],
   "source": []
  }
 ],
 "metadata": {
  "kernelspec": {
   "display_name": "Python 3 (ipykernel)",
   "language": "python",
   "name": "python3"
  },
  "language_info": {
   "codemirror_mode": {
    "name": "ipython",
    "version": 3
   },
   "file_extension": ".py",
   "mimetype": "text/x-python",
   "name": "python",
   "nbconvert_exporter": "python",
   "pygments_lexer": "ipython3",
   "version": "3.9.12"
  }
 },
 "nbformat": 4,
 "nbformat_minor": 5
}
