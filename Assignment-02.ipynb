{
 "cells": [
  {
   "cell_type": "markdown",
   "id": "e4d7aa0b",
   "metadata": {},
   "source": [
    "# Assignment-02 Huzaifa Qamar"
   ]
  },
  {
   "cell_type": "code",
   "execution_count": 1,
   "id": "8660c9ea",
   "metadata": {},
   "outputs": [
    {
     "name": "stdout",
     "output_type": "stream",
     "text": [
      "Enter Age=25\n",
      "Adult\n"
     ]
    }
   ],
   "source": [
    "#Q1)Age Group Classification\n",
    "age_input=int(input('Enter Age='))\n",
    "if age_input>=0 and age_input<=12:\n",
    "    print(\"Child\")\n",
    "elif age_input>=13 and age_input<=19:\n",
    "    print(\"Teenager\")    \n",
    "elif age_input>=20 and age_input<=64:\n",
    "    print(\"Adult\")    \n",
    "elif age_input>=65:\n",
    "    print(\"Senior\")    \n"
   ]
  },
  {
   "cell_type": "code",
   "execution_count": 3,
   "id": "b725215e",
   "metadata": {},
   "outputs": [
    {
     "name": "stdout",
     "output_type": "stream",
     "text": [
      "Enter Membership Status=regular\n",
      "Enter Purchase Amount=23000\n",
      "Eligible for Discount\n"
     ]
    }
   ],
   "source": [
    "#Q2)Checking for Eligibility for Discount\n",
    "membership_status=input('Enter Membership Status=')\n",
    "purchase_amount=int(input('Enter Purchase Amount='))\n",
    "\n",
    "if membership_status=='premium' and purchase_amount>=1000:\n",
    "    print('Eligible for Discount')\n",
    "elif membership_status=='regular' and purchase_amount>=2000:\n",
    "    print('Eligible for Discount')    \n",
    "else:\n",
    "    print('Not Eligible for Discount')    \n"
   ]
  },
  {
   "cell_type": "code",
   "execution_count": 4,
   "id": "11c49d0d",
   "metadata": {},
   "outputs": [
    {
     "name": "stdout",
     "output_type": "stream",
     "text": [
      "Enter citizenship Status(Citizen/Not citizen)=citizen\n",
      "Enter Age=25\n",
      "Eligible for Vote\n"
     ]
    }
   ],
   "source": [
    "#Q3)Voting Eligibility Check\n",
    "citizenship_status=input('Enter citizenship Status(Citizen/Not citizen)=')\n",
    "age=int(input('Enter Age='))\n",
    "\n",
    "if age>=18 and citizenship_status=='citizen':\n",
    "    print('Eligible for Vote')\n",
    "elif age>=16 and citizenship_status=='citizen':\n",
    "    print('Eligible for Vote')    \n",
    "else:\n",
    "    print('Not Eligible for Vote')    \n"
   ]
  },
  {
   "cell_type": "code",
   "execution_count": 5,
   "id": "dd162b98",
   "metadata": {},
   "outputs": [
    {
     "name": "stdout",
     "output_type": "stream",
     "text": [
      "Enter Employee Status=excellent\n",
      "Enter Years=9\n",
      "Eligible For Bonus\n"
     ]
    }
   ],
   "source": [
    "#Q4)Employee Salary Bonus Eligibility\n",
    "employee_status=input('Enter Employee Status=')\n",
    "employee_years=int(input('Enter Years='))\n",
    "if employee_status=='excellent' and employee_years>=5:\n",
    "    print('Eligible For Bonus')\n",
    "elif employee_status=='good' and employee_years>=10:\n",
    "    print('Eligible For Bonus')    \n",
    "elif employee_status=='satisfactory' and employee_years>=15:\n",
    "    print('Eligible For Bonus')    \n",
    "else:\n",
    "    print('Not Eligible For Bonus')    \n"
   ]
  },
  {
   "cell_type": "code",
   "execution_count": 8,
   "id": "53c3ab08",
   "metadata": {},
   "outputs": [
    {
     "name": "stdout",
     "output_type": "stream",
     "text": [
      "I'm_learning_Python_programming\n",
      "count \"_\" string=3\n",
      "find \"_\" value=3\n"
     ]
    }
   ],
   "source": [
    "#Q5)replaces spaces with underscores,........\n",
    "string=\"I'm learning Python programming\"\n",
    "\n",
    "replace_string = string.replace(\" \", \"_\")\n",
    "print(replace_string)\n",
    "\n",
    "count_string=replace_string.count('_')\n",
    "print(f'count \"_\" string={count_string}')\n",
    "\n",
    "find_value=replace_string.find(\"_\")\n",
    "print(f'find \"_\" value={find_value}')"
   ]
  },
  {
   "cell_type": "code",
   "execution_count": 9,
   "id": "58f48a82",
   "metadata": {},
   "outputs": [
    {
     "name": "stdout",
     "output_type": "stream",
     "text": [
      "Enter stringhello\n",
      "exclude last three=he\n",
      "every second character=hlo\n",
      "reversed string=olleh\n"
     ]
    }
   ],
   "source": [
    "#Q6)Write a Python program that:\n",
    "\n",
    "input_string=input('Enter string')\n",
    "\n",
    "exclude_last_three = input_string[:-3]\n",
    "print(f'exclude last three={exclude_last_three}')\n",
    "\n",
    "every_second_character = input_string[::2]\n",
    "print(f'every second character={every_second_character}')\n",
    "\n",
    "reversed_string = input_string[::-1]\n",
    "print(f'reversed string={reversed_string}')\n"
   ]
  },
  {
   "cell_type": "code",
   "execution_count": 11,
   "id": "44771f62",
   "metadata": {},
   "outputs": [
    {
     "name": "stdout",
     "output_type": "stream",
     "text": [
      "Python learning are We World, Hello\n"
     ]
    }
   ],
   "source": [
    "#Q7)Given a sentence, you need to reverse the order of the words in the sentence while preserving their original capitalization and spaces.\n",
    "\n",
    "sentence = \"Hello World, We are learning Python\"\n",
    "\n",
    "# Split the sentence into words\n",
    "words = sentence.split()\n",
    "\n",
    "# Reverse the order of words\n",
    "reversed_sentence = ' '.join(reversed(words))\n",
    "\n",
    "print(reversed_sentence)\n"
   ]
  },
  {
   "cell_type": "code",
   "execution_count": 13,
   "id": "0b22c8d1",
   "metadata": {},
   "outputs": [
    {
     "name": "stdout",
     "output_type": "stream",
     "text": [
      "12345\n"
     ]
    }
   ],
   "source": [
    "#Q8)You need to:Remove\n",
    "# Example product code\n",
    "product_code = \"SKU-12345-XYZ\"\n",
    "number = product_code[4:-4]\n",
    "print(number)\n"
   ]
  },
  {
   "cell_type": "code",
   "execution_count": 15,
   "id": "1eb83b49",
   "metadata": {
    "scrolled": true
   },
   "outputs": [
    {
     "name": "stdout",
     "output_type": "stream",
     "text": [
      "Enter your password: H@12 i\n",
      "Contains uppercase characters: True\n",
      "Contains lowercase characters: True\n",
      "Contains spaces: True\n",
      "Contains special characters: True\n"
     ]
    }
   ],
   "source": [
    "#Q9)Write a Python program to check user password has following:\n",
    "password = input(\"Enter your password: \")\n",
    "\n",
    "has_uppercase = any(char.isupper() for char in password)\n",
    "has_lowercase = any(char.islower() for char in password)\n",
    "has_spaces = ' ' in password\n",
    "has_special_characters = any(not char.isalnum() and char != ' ' for char in password)\n",
    "\n",
    "print(\"Contains uppercase characters:\", has_uppercase)\n",
    "print(\"Contains lowercase characters:\", has_lowercase)\n",
    "print(\"Contains spaces:\", has_spaces)\n",
    "print(\"Contains special characters:\", has_special_characters)\n"
   ]
  },
  {
   "cell_type": "code",
   "execution_count": 17,
   "id": "c373a7ec",
   "metadata": {},
   "outputs": [
    {
     "name": "stdout",
     "output_type": "stream",
     "text": [
      "programming\n"
     ]
    }
   ],
   "source": [
    "#Q10)Find the Longest Word\n",
    "sentence = \"I love programming in Python\"\n",
    "\n",
    "words = sentence.split()\n",
    "longest = max(words, key=len)\n",
    "print(longest)\n",
    "\n",
    "\n"
   ]
  },
  {
   "cell_type": "code",
   "execution_count": null,
   "id": "a4aefcfb",
   "metadata": {},
   "outputs": [],
   "source": []
  }
 ],
 "metadata": {
  "kernelspec": {
   "display_name": "Python 3 (ipykernel)",
   "language": "python",
   "name": "python3"
  },
  "language_info": {
   "codemirror_mode": {
    "name": "ipython",
    "version": 3
   },
   "file_extension": ".py",
   "mimetype": "text/x-python",
   "name": "python",
   "nbconvert_exporter": "python",
   "pygments_lexer": "ipython3",
   "version": "3.9.12"
  }
 },
 "nbformat": 4,
 "nbformat_minor": 5
}
